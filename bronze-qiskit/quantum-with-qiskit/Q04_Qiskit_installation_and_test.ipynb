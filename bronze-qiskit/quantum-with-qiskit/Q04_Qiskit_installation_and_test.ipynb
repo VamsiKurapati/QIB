{
 "cells": [
  {
   "cell_type": "markdown",
   "metadata": {},
   "source": [
    "<a href=\"https://qworld.net\" target=\"_blank\" align=\"left\"><img src=\"../qworld/images/header.jpg\"  align=\"left\"></a>\n",
    "$ \\newcommand{\\bra}[1]{\\langle #1|} $\n",
    "$ \\newcommand{\\ket}[1]{|#1\\rangle} $\n",
    "$ \\newcommand{\\braket}[2]{\\langle #1|#2\\rangle} $\n",
    "$ \\newcommand{\\dot}[2]{ #1 \\cdot #2} $\n",
    "$ \\newcommand{\\biginner}[2]{\\left\\langle #1,#2\\right\\rangle} $\n",
    "$ \\newcommand{\\mymatrix}[2]{\\left( \\begin{array}{#1} #2\\end{array} \\right)} $\n",
    "$ \\newcommand{\\myvector}[1]{\\mymatrix{c}{#1}} $\n",
    "$ \\newcommand{\\myrvector}[1]{\\mymatrix{r}{#1}} $\n",
    "$ \\newcommand{\\mypar}[1]{\\left( #1 \\right)} $\n",
    "$ \\newcommand{\\mybigpar}[1]{ \\Big( #1 \\Big)} $\n",
    "$ \\newcommand{\\sqrttwo}{\\frac{1}{\\sqrt{2}}} $\n",
    "$ \\newcommand{\\dsqrttwo}{\\dfrac{1}{\\sqrt{2}}} $\n",
    "$ \\newcommand{\\onehalf}{\\frac{1}{2}} $\n",
    "$ \\newcommand{\\donehalf}{\\dfrac{1}{2}} $\n",
    "$ \\newcommand{\\hadamard}{ \\mymatrix{rr}{ \\sqrttwo & \\sqrttwo \\\\ \\sqrttwo & -\\sqrttwo }} $\n",
    "$ \\newcommand{\\vzero}{\\myvector{1\\\\0}} $\n",
    "$ \\newcommand{\\vone}{\\myvector{0\\\\1}} $\n",
    "$ \\newcommand{\\stateplus}{\\myvector{ \\sqrttwo \\\\  \\sqrttwo } } $\n",
    "$ \\newcommand{\\stateminus}{ \\myrvector{ \\sqrttwo \\\\ -\\sqrttwo } } $\n",
    "$ \\newcommand{\\myarray}[2]{ \\begin{array}{#1}#2\\end{array}} $\n",
    "$ \\newcommand{\\X}{ \\mymatrix{cc}{0 & 1 \\\\ 1 & 0}  } $\n",
    "$ \\newcommand{\\I}{ \\mymatrix{rr}{1 & 0 \\\\ 0 & 1}  } $\n",
    "$ \\newcommand{\\Z}{ \\mymatrix{rr}{1 & 0 \\\\ 0 & -1}  } $\n",
    "$ \\newcommand{\\Htwo}{ \\mymatrix{rrrr}{ \\frac{1}{2} & \\frac{1}{2} & \\frac{1}{2} & \\frac{1}{2} \\\\ \\frac{1}{2} & -\\frac{1}{2} & \\frac{1}{2} & -\\frac{1}{2} \\\\ \\frac{1}{2} & \\frac{1}{2} & -\\frac{1}{2} & -\\frac{1}{2} \\\\ \\frac{1}{2} & -\\frac{1}{2} & -\\frac{1}{2} & \\frac{1}{2} } } $\n",
    "$ \\newcommand{\\CNOT}{ \\mymatrix{cccc}{1 & 0 & 0 & 0 \\\\ 0 & 1 & 0 & 0 \\\\ 0 & 0 & 0 & 1 \\\\ 0 & 0 & 1 & 0} } $\n",
    "$ \\newcommand{\\norm}[1]{ \\left\\lVert #1 \\right\\rVert } $\n",
    "$ \\newcommand{\\pstate}[1]{ \\lceil \\mspace{-1mu} #1 \\mspace{-1.5mu} \\rfloor } $\n",
    "$ \\newcommand{\\greenbit}[1] {\\mathbf{{\\color{green}#1}}} $\n",
    "$ \\newcommand{\\bluebit}[1] {\\mathbf{{\\color{blue}#1}}} $\n",
    "$ \\newcommand{\\redbit}[1] {\\mathbf{{\\color{red}#1}}} $\n",
    "$ \\newcommand{\\brownbit}[1] {\\mathbf{{\\color{brown}#1}}} $\n",
    "$ \\newcommand{\\blackbit}[1] {\\mathbf{{\\color{black}#1}}} $"
   ]
  },
  {
   "cell_type": "markdown",
   "metadata": {},
   "source": [
    "<font style=\"font-size:28px;\" align=\"left\"><b> Qiskit installation and test </b></font>\n",
    "<br>\n",
    "_prepared by Abuzer Yakaryilmaz_\n",
    "<br><br>"
   ]
  },
  {
   "cell_type": "markdown",
   "metadata": {},
   "source": [
    "- [Check your system](#check)\n",
    "- [Install qiskit](#install)\n",
    "- [Tips](#tips)\n",
    "- [Execute an example quantum program](#test)\n",
    "- [Complete test](#complete)"
   ]
  },
  {
   "cell_type": "markdown",
   "metadata": {},
   "source": [
    "<hr id=\"check\">\n",
    "\n",
    "### Check your system\n",
    "\n",
    "Check your system, if Qiskit has already been installed:"
   ]
  },
  {
   "cell_type": "code",
   "execution_count": 1,
   "metadata": {},
   "outputs": [
    {
     "name": "stderr",
     "output_type": "stream",
     "text": [
      "C:\\Users\\vamsi\\AppData\\Local\\Temp\\ipykernel_19912\\3518098202.py:3: DeprecationWarning: qiskit.__qiskit_version__ is deprecated since Qiskit Terra 0.25.0, and will be removed 3 months or more later. Instead, you should use qiskit.__version__. The other packages listed in theformer qiskit.__qiskit_version__ have their own __version__ module level dunder, as standard in PEP 8.\n",
      "  print(\"The version of Qiskit is\",versions['qiskit'])\n"
     ]
    },
    {
     "name": "stdout",
     "output_type": "stream",
     "text": [
      "The version of Qiskit is 0.45.1\n",
      "\n",
      "The version of each component:\n",
      "qiskit -> 0.45.1\n",
      "qiskit-aer -> 0.13.2\n",
      "qiskit-ignis -> None\n",
      "qiskit-ibmq-provider -> None\n",
      "qiskit-nature -> None\n",
      "qiskit-finance -> None\n",
      "qiskit-optimization -> None\n",
      "qiskit-machine-learning -> None\n"
     ]
    }
   ],
   "source": [
    "import qiskit\n",
    "versions = qiskit.__qiskit_version__\n",
    "print(\"The version of Qiskit is\",versions['qiskit'])\n",
    "print()\n",
    "print(\"The version of each component:\")\n",
    "for key in versions:\n",
    "    print(key,\"->\",versions[key])"
   ]
  },
  {
   "cell_type": "markdown",
   "metadata": {},
   "source": [
    "**You should be able to see the version number of any library that is already installed in your system.**"
   ]
  },
  {
   "cell_type": "markdown",
   "metadata": {},
   "source": [
    "<hr id=\"install\">\n",
    "\n",
    "### Install qiskit\n",
    "\n",
    "(If you are an experienced user, visit this link: https://docs.quantum-computing.ibm.com/start/install)\n",
    "\n",
    "You can install Qiskit by executing the following cell:"
   ]
  },
  {
   "cell_type": "code",
   "execution_count": 2,
   "metadata": {},
   "outputs": [
    {
     "name": "stdout",
     "output_type": "stream",
     "text": [
      "Requirement already satisfied: qiskit[visualization] in c:\\users\\vamsi\\appdata\\roaming\\python\\python311\\site-packages (0.45.1)\n",
      "Requirement already satisfied: qiskit-terra==0.45.1 in c:\\users\\vamsi\\appdata\\roaming\\python\\python311\\site-packages (from qiskit[visualization]) (0.45.1)\n",
      "Requirement already satisfied: rustworkx>=0.13.0 in c:\\users\\vamsi\\appdata\\roaming\\python\\python311\\site-packages (from qiskit-terra==0.45.1->qiskit[visualization]) (0.13.2)\n",
      "Requirement already satisfied: numpy<2,>=1.17 in c:\\python311\\lib\\site-packages (from qiskit-terra==0.45.1->qiskit[visualization]) (1.25.2)\n",
      "Requirement already satisfied: ply>=3.10 in c:\\users\\vamsi\\appdata\\roaming\\python\\python311\\site-packages (from qiskit-terra==0.45.1->qiskit[visualization]) (3.11)\n",
      "Requirement already satisfied: psutil>=5 in c:\\users\\vamsi\\appdata\\roaming\\python\\python311\\site-packages (from qiskit-terra==0.45.1->qiskit[visualization]) (5.9.7)\n",
      "Requirement already satisfied: scipy>=1.5 in c:\\users\\vamsi\\appdata\\roaming\\python\\python311\\site-packages (from qiskit-terra==0.45.1->qiskit[visualization]) (1.11.4)\n",
      "Requirement already satisfied: sympy>=1.3 in c:\\users\\vamsi\\appdata\\roaming\\python\\python311\\site-packages (from qiskit-terra==0.45.1->qiskit[visualization]) (1.12)\n",
      "Requirement already satisfied: dill>=0.3 in c:\\users\\vamsi\\appdata\\roaming\\python\\python311\\site-packages (from qiskit-terra==0.45.1->qiskit[visualization]) (0.3.7)\n",
      "Requirement already satisfied: python-dateutil>=2.8.0 in c:\\python311\\lib\\site-packages (from qiskit-terra==0.45.1->qiskit[visualization]) (2.8.2)\n",
      "Requirement already satisfied: stevedore>=3.0.0 in c:\\users\\vamsi\\appdata\\roaming\\python\\python311\\site-packages (from qiskit-terra==0.45.1->qiskit[visualization]) (5.1.0)\n",
      "Requirement already satisfied: matplotlib>=3.3 in c:\\python311\\lib\\site-packages (from qiskit-terra[visualization]; extra == \"visualization\"->qiskit[visualization]) (3.7.2)\n",
      "Requirement already satisfied: ipywidgets>=7.3.0 in c:\\users\\vamsi\\appdata\\roaming\\python\\python311\\site-packages (from qiskit-terra[visualization]; extra == \"visualization\"->qiskit[visualization]) (8.1.1)\n",
      "Requirement already satisfied: pydot in c:\\users\\vamsi\\appdata\\roaming\\python\\python311\\site-packages (from qiskit-terra[visualization]; extra == \"visualization\"->qiskit[visualization]) (2.0.0)\n",
      "Requirement already satisfied: pillow>=4.2.1 in c:\\python311\\lib\\site-packages (from qiskit-terra[visualization]; extra == \"visualization\"->qiskit[visualization]) (10.0.0)\n",
      "Requirement already satisfied: pylatexenc>=1.4 in c:\\users\\vamsi\\appdata\\roaming\\python\\python311\\site-packages (from qiskit-terra[visualization]; extra == \"visualization\"->qiskit[visualization]) (2.10)\n",
      "Requirement already satisfied: seaborn>=0.9.0 in c:\\users\\vamsi\\appdata\\roaming\\python\\python311\\site-packages (from qiskit-terra[visualization]; extra == \"visualization\"->qiskit[visualization]) (0.13.1)\n",
      "Requirement already satisfied: pygments>=2.4 in c:\\users\\vamsi\\appdata\\roaming\\python\\python311\\site-packages (from qiskit-terra[visualization]; extra == \"visualization\"->qiskit[visualization]) (2.17.2)\n",
      "Requirement already satisfied: comm>=0.1.3 in c:\\users\\vamsi\\appdata\\roaming\\python\\python311\\site-packages (from ipywidgets>=7.3.0->qiskit-terra[visualization]; extra == \"visualization\"->qiskit[visualization]) (0.2.1)\n",
      "Requirement already satisfied: ipython>=6.1.0 in c:\\users\\vamsi\\appdata\\roaming\\python\\python311\\site-packages (from ipywidgets>=7.3.0->qiskit-terra[visualization]; extra == \"visualization\"->qiskit[visualization]) (8.20.0)\n",
      "Requirement already satisfied: traitlets>=4.3.1 in c:\\users\\vamsi\\appdata\\roaming\\python\\python311\\site-packages (from ipywidgets>=7.3.0->qiskit-terra[visualization]; extra == \"visualization\"->qiskit[visualization]) (5.14.1)\n",
      "Requirement already satisfied: widgetsnbextension~=4.0.9 in c:\\users\\vamsi\\appdata\\roaming\\python\\python311\\site-packages (from ipywidgets>=7.3.0->qiskit-terra[visualization]; extra == \"visualization\"->qiskit[visualization]) (4.0.9)\n",
      "Requirement already satisfied: jupyterlab-widgets~=3.0.9 in c:\\users\\vamsi\\appdata\\roaming\\python\\python311\\site-packages (from ipywidgets>=7.3.0->qiskit-terra[visualization]; extra == \"visualization\"->qiskit[visualization]) (3.0.9)\n",
      "Requirement already satisfied: contourpy>=1.0.1 in c:\\python311\\lib\\site-packages (from matplotlib>=3.3->qiskit-terra[visualization]; extra == \"visualization\"->qiskit[visualization]) (1.1.0)\n",
      "Requirement already satisfied: cycler>=0.10 in c:\\python311\\lib\\site-packages (from matplotlib>=3.3->qiskit-terra[visualization]; extra == \"visualization\"->qiskit[visualization]) (0.11.0)\n",
      "Requirement already satisfied: fonttools>=4.22.0 in c:\\python311\\lib\\site-packages (from matplotlib>=3.3->qiskit-terra[visualization]; extra == \"visualization\"->qiskit[visualization]) (4.42.0)\n",
      "Requirement already satisfied: kiwisolver>=1.0.1 in c:\\python311\\lib\\site-packages (from matplotlib>=3.3->qiskit-terra[visualization]; extra == \"visualization\"->qiskit[visualization]) (1.4.4)\n",
      "Requirement already satisfied: packaging>=20.0 in c:\\python311\\lib\\site-packages (from matplotlib>=3.3->qiskit-terra[visualization]; extra == \"visualization\"->qiskit[visualization]) (23.1)\n",
      "Requirement already satisfied: pyparsing<3.1,>=2.3.1 in c:\\python311\\lib\\site-packages (from matplotlib>=3.3->qiskit-terra[visualization]; extra == \"visualization\"->qiskit[visualization]) (3.0.9)\n",
      "Requirement already satisfied: six>=1.5 in c:\\python311\\lib\\site-packages (from python-dateutil>=2.8.0->qiskit-terra==0.45.1->qiskit[visualization]) (1.16.0)\n",
      "Requirement already satisfied: pandas>=1.2 in c:\\users\\vamsi\\appdata\\roaming\\python\\python311\\site-packages (from seaborn>=0.9.0->qiskit-terra[visualization]; extra == \"visualization\"->qiskit[visualization]) (2.1.4)\n",
      "Requirement already satisfied: pbr!=2.1.0,>=2.0.0 in c:\\users\\vamsi\\appdata\\roaming\\python\\python311\\site-packages (from stevedore>=3.0.0->qiskit-terra==0.45.1->qiskit[visualization]) (6.0.0)\n",
      "Requirement already satisfied: mpmath>=0.19 in c:\\users\\vamsi\\appdata\\roaming\\python\\python311\\site-packages (from sympy>=1.3->qiskit-terra==0.45.1->qiskit[visualization]) (1.3.0)\n",
      "Requirement already satisfied: decorator in c:\\users\\vamsi\\appdata\\roaming\\python\\python311\\site-packages (from ipython>=6.1.0->ipywidgets>=7.3.0->qiskit-terra[visualization]; extra == \"visualization\"->qiskit[visualization]) (5.1.1)\n",
      "Requirement already satisfied: jedi>=0.16 in c:\\users\\vamsi\\appdata\\roaming\\python\\python311\\site-packages (from ipython>=6.1.0->ipywidgets>=7.3.0->qiskit-terra[visualization]; extra == \"visualization\"->qiskit[visualization]) (0.19.1)\n",
      "Requirement already satisfied: matplotlib-inline in c:\\users\\vamsi\\appdata\\roaming\\python\\python311\\site-packages (from ipython>=6.1.0->ipywidgets>=7.3.0->qiskit-terra[visualization]; extra == \"visualization\"->qiskit[visualization]) (0.1.6)\n",
      "Requirement already satisfied: prompt-toolkit<3.1.0,>=3.0.41 in c:\\users\\vamsi\\appdata\\roaming\\python\\python311\\site-packages (from ipython>=6.1.0->ipywidgets>=7.3.0->qiskit-terra[visualization]; extra == \"visualization\"->qiskit[visualization]) (3.0.43)\n",
      "Requirement already satisfied: stack-data in c:\\users\\vamsi\\appdata\\roaming\\python\\python311\\site-packages (from ipython>=6.1.0->ipywidgets>=7.3.0->qiskit-terra[visualization]; extra == \"visualization\"->qiskit[visualization]) (0.6.3)\n",
      "Requirement already satisfied: colorama in c:\\users\\vamsi\\appdata\\roaming\\python\\python311\\site-packages (from ipython>=6.1.0->ipywidgets>=7.3.0->qiskit-terra[visualization]; extra == \"visualization\"->qiskit[visualization]) (0.4.6)\n",
      "Requirement already satisfied: pytz>=2020.1 in c:\\users\\vamsi\\appdata\\roaming\\python\\python311\\site-packages (from pandas>=1.2->seaborn>=0.9.0->qiskit-terra[visualization]; extra == \"visualization\"->qiskit[visualization]) (2023.3.post1)\n",
      "Requirement already satisfied: tzdata>=2022.1 in c:\\users\\vamsi\\appdata\\roaming\\python\\python311\\site-packages (from pandas>=1.2->seaborn>=0.9.0->qiskit-terra[visualization]; extra == \"visualization\"->qiskit[visualization]) (2023.4)\n",
      "Requirement already satisfied: parso<0.9.0,>=0.8.3 in c:\\users\\vamsi\\appdata\\roaming\\python\\python311\\site-packages (from jedi>=0.16->ipython>=6.1.0->ipywidgets>=7.3.0->qiskit-terra[visualization]; extra == \"visualization\"->qiskit[visualization]) (0.8.3)\n",
      "Requirement already satisfied: wcwidth in c:\\users\\vamsi\\appdata\\roaming\\python\\python311\\site-packages (from prompt-toolkit<3.1.0,>=3.0.41->ipython>=6.1.0->ipywidgets>=7.3.0->qiskit-terra[visualization]; extra == \"visualization\"->qiskit[visualization]) (0.2.13)\n",
      "Requirement already satisfied: executing>=1.2.0 in c:\\users\\vamsi\\appdata\\roaming\\python\\python311\\site-packages (from stack-data->ipython>=6.1.0->ipywidgets>=7.3.0->qiskit-terra[visualization]; extra == \"visualization\"->qiskit[visualization]) (2.0.1)\n",
      "Requirement already satisfied: asttokens>=2.1.0 in c:\\users\\vamsi\\appdata\\roaming\\python\\python311\\site-packages (from stack-data->ipython>=6.1.0->ipywidgets>=7.3.0->qiskit-terra[visualization]; extra == \"visualization\"->qiskit[visualization]) (2.4.1)\n",
      "Requirement already satisfied: pure-eval in c:\\users\\vamsi\\appdata\\roaming\\python\\python311\\site-packages (from stack-data->ipython>=6.1.0->ipywidgets>=7.3.0->qiskit-terra[visualization]; extra == \"visualization\"->qiskit[visualization]) (0.2.2)\n"
     ]
    }
   ],
   "source": [
    "!pip install \"qiskit[visualization]\" --user"
   ]
  },
  {
   "cell_type": "code",
   "execution_count": 3,
   "metadata": {},
   "outputs": [
    {
     "name": "stdout",
     "output_type": "stream",
     "text": [
      "Requirement already satisfied: qiskit-aer in c:\\users\\vamsi\\appdata\\roaming\\python\\python311\\site-packages (0.13.2)\n",
      "Requirement already satisfied: qiskit>=0.45.0 in c:\\users\\vamsi\\appdata\\roaming\\python\\python311\\site-packages (from qiskit-aer) (0.45.1)\n",
      "Requirement already satisfied: numpy>=1.16.3 in c:\\python311\\lib\\site-packages (from qiskit-aer) (1.25.2)\n",
      "Requirement already satisfied: scipy>=1.0 in c:\\users\\vamsi\\appdata\\roaming\\python\\python311\\site-packages (from qiskit-aer) (1.11.4)\n",
      "Requirement already satisfied: psutil>=5 in c:\\users\\vamsi\\appdata\\roaming\\python\\python311\\site-packages (from qiskit-aer) (5.9.7)\n",
      "Requirement already satisfied: qiskit-terra==0.45.1 in c:\\users\\vamsi\\appdata\\roaming\\python\\python311\\site-packages (from qiskit>=0.45.0->qiskit-aer) (0.45.1)\n",
      "Requirement already satisfied: rustworkx>=0.13.0 in c:\\users\\vamsi\\appdata\\roaming\\python\\python311\\site-packages (from qiskit-terra==0.45.1->qiskit>=0.45.0->qiskit-aer) (0.13.2)\n",
      "Requirement already satisfied: ply>=3.10 in c:\\users\\vamsi\\appdata\\roaming\\python\\python311\\site-packages (from qiskit-terra==0.45.1->qiskit>=0.45.0->qiskit-aer) (3.11)\n",
      "Requirement already satisfied: sympy>=1.3 in c:\\users\\vamsi\\appdata\\roaming\\python\\python311\\site-packages (from qiskit-terra==0.45.1->qiskit>=0.45.0->qiskit-aer) (1.12)\n",
      "Requirement already satisfied: dill>=0.3 in c:\\users\\vamsi\\appdata\\roaming\\python\\python311\\site-packages (from qiskit-terra==0.45.1->qiskit>=0.45.0->qiskit-aer) (0.3.7)\n",
      "Requirement already satisfied: python-dateutil>=2.8.0 in c:\\python311\\lib\\site-packages (from qiskit-terra==0.45.1->qiskit>=0.45.0->qiskit-aer) (2.8.2)\n",
      "Requirement already satisfied: stevedore>=3.0.0 in c:\\users\\vamsi\\appdata\\roaming\\python\\python311\\site-packages (from qiskit-terra==0.45.1->qiskit>=0.45.0->qiskit-aer) (5.1.0)\n",
      "Requirement already satisfied: six>=1.5 in c:\\python311\\lib\\site-packages (from python-dateutil>=2.8.0->qiskit-terra==0.45.1->qiskit>=0.45.0->qiskit-aer) (1.16.0)\n",
      "Requirement already satisfied: pbr!=2.1.0,>=2.0.0 in c:\\users\\vamsi\\appdata\\roaming\\python\\python311\\site-packages (from stevedore>=3.0.0->qiskit-terra==0.45.1->qiskit>=0.45.0->qiskit-aer) (6.0.0)\n",
      "Requirement already satisfied: mpmath>=0.19 in c:\\users\\vamsi\\appdata\\roaming\\python\\python311\\site-packages (from sympy>=1.3->qiskit-terra==0.45.1->qiskit>=0.45.0->qiskit-aer) (1.3.0)\n"
     ]
    }
   ],
   "source": [
    "!pip install qiskit-aer --user"
   ]
  },
  {
   "cell_type": "markdown",
   "metadata": {},
   "source": [
    "__*Restart the kernel*__ (check \"Kernel\" menu) to apply the changes to the current notebook."
   ]
  },
  {
   "cell_type": "markdown",
   "metadata": {},
   "source": [
    "<hr id=\"tips\">\n",
    "\n",
    "### Tips\n",
    "\n",
    "_Any terminal/shell command can be executed in the notebook cells by putting an exclamation mark (!) at the beginning of the command._\n",
    "\n",
    "_$\\rightarrow$ To update Qiskit to the latest version, execute the following command in a code cell_\n",
    "\n",
    "    !pip install -U qiskit --user\n",
    "    \n",
    "_$\\rightarrow$ To uninstall Qiskit, execute the following command in a code cell_\n",
    "\n",
    "    !pip uninstall qiskit"
   ]
  },
  {
   "cell_type": "code",
   "execution_count": 4,
   "metadata": {},
   "outputs": [],
   "source": [
    "#!pip install -U qiskit --user\n",
    "#!pip uninstall qiskit"
   ]
  },
  {
   "cell_type": "markdown",
   "metadata": {},
   "source": [
    "<hr id=\"test\">\n",
    "\n",
    "### Execute an example quantum program\n"
   ]
  },
  {
   "cell_type": "markdown",
   "metadata": {},
   "source": [
    "1) Create a quantum circuit"
   ]
  },
  {
   "cell_type": "code",
   "execution_count": 5,
   "metadata": {},
   "outputs": [
    {
     "name": "stdout",
     "output_type": "stream",
     "text": [
      "The execution of the cell was completed, and the circuit was created :)\n"
     ]
    }
   ],
   "source": [
    "# import the objects from qiskit\n",
    "from qiskit import QuantumRegister, ClassicalRegister, QuantumCircuit, execute, Aer\n",
    "from random import randrange\n",
    "\n",
    "# create a quantum circuit and its register objects\n",
    "qreg = QuantumRegister(2) # quantum register with two quantum bits\n",
    "creg = ClassicalRegister(2) # classical register with two classical bit\n",
    "circuit = QuantumCircuit(qreg,creg) # quantum circuit composed by a quantum register and a classical register\n",
    "\n",
    "# apply a Hadamard gate to the first qubit\n",
    "circuit.h(qreg[0])\n",
    "\n",
    "# set the second qubit to state |1>\n",
    "circuit.x(qreg[1])\n",
    "\n",
    "# apply CNOT(first_qubit,second_qubit)\n",
    "circuit.cx(qreg[0],qreg[1])\n",
    "\n",
    "# measure the both qubits\n",
    "circuit.measure(qreg,creg)\n",
    "\n",
    "print(\"The execution of the cell was completed, and the circuit was created :)\")"
   ]
  },
  {
   "cell_type": "markdown",
   "metadata": {},
   "source": [
    "2) Draw the circuit\n",
    "\n",
    "_Run the cell once more if the figure is not shown_"
   ]
  },
  {
   "cell_type": "code",
   "execution_count": 6,
   "metadata": {},
   "outputs": [
    {
     "name": "stderr",
     "output_type": "stream",
     "text": [
      "C:\\Users\\vamsi\\AppData\\Roaming\\Python\\Python311\\site-packages\\qiskit\\visualization\\circuit\\matplotlib.py:266: FutureWarning: The default matplotlib drawer scheme will be changed to \"iqp\" in a following release. To silence this warning, specify the current default explicitly as style=\"clifford\", or the new default as style=\"iqp\".\n",
      "  self._style, def_font_ratio = load_style(self._style)\n"
     ]
    },
    {
     "data": {
      "image/png": "[encoded data removed]",
      "text/plain": [
       "<Figure size 472.747x284.278 with 1 Axes>"
      ]
     },
     "execution_count": 6,
     "metadata": {},
     "output_type": "execute_result"
    }
   ],
   "source": [
    "# draw circuit \n",
    "circuit.draw(output='mpl')\n",
    "\n",
    "# the output will be a \"matplotlib.Figure\" object"
   ]
  },
  {
   "cell_type": "markdown",
   "metadata": {},
   "source": [
    "3) Execute the circuit 1024 times in the local simulator and print the observed the outcomes"
   ]
  },
  {
   "cell_type": "code",
   "execution_count": 7,
   "metadata": {},
   "outputs": [
    {
     "name": "stdout",
     "output_type": "stream",
     "text": [
      "{'01': 493, '10': 531}\n"
     ]
    }
   ],
   "source": [
    "## execute the circuit 1024 times\n",
    "job = execute(circuit,Aer.get_backend('qasm_simulator'),shots=1024)\n",
    "# get the result\n",
    "counts = job.result().get_counts(circuit)\n",
    "print(counts)"
   ]
  },
  {
   "cell_type": "markdown",
   "metadata": {},
   "source": [
    "<hr id=\"complete\">\n",
    "\n",
    "### Complete test\n",
    "\n",
    "Here we put all methods and objects of Qiskit used througout this tutorial (see [Qiskit: Quick Reference](Q01_Qiskit_Reference.ipynb) for a complete list).\n",
    "\n",
    "By running the cell below, you should be able to test whether your Qiskit installation is ready for our tutorial.\n",
    "\n",
    "_It was tested with Qiskit 0.37.0 on July 10, 2022._"
   ]
  },
  {
   "cell_type": "code",
   "execution_count": 8,
   "metadata": {},
   "outputs": [
    {
     "data": {
      "text/html": [
       "<pre style=\"word-wrap: normal;white-space: pre;background: #fff0;line-height: 1.1;font-family: &quot;Courier New&quot;,Courier,monospace\">                 ┌───┐┌───────────────┐┌───┐ ░ ┌─┐            \n",
       "q_0: ────────────┤ X ├┤ U(2π/7,0,0,0) ├┤ X ├─░─┤M├────────────\n",
       "        ┌───┐    └─┬─┘└───────┬───────┘└─┬─┘ ░ └╥┘┌─┐         \n",
       "q_1: ───┤ H ├──────■──────────■──────────■───░──╫─┤M├─────────\n",
       "        ├───┤                            │   ░  ║ └╥┘┌─┐      \n",
       "q_2: ───┤ X ├────────────────────────────■───░──╫──╫─┤M├──────\n",
       "     ┌──┴───┴───┐                            ░  ║  ║ └╥┘┌─┐   \n",
       "q_3: ┤ Ry(2π/7) ├────────────────────────────░──╫──╫──╫─┤M├───\n",
       "     └──┬───┬───┘                            ░  ║  ║  ║ └╥┘┌─┐\n",
       "q_4: ───┤ Z ├────────────────────────────────░──╫──╫──╫──╫─┤M├\n",
       "        └───┘                                ░  ║  ║  ║  ║ └╥┘\n",
       "c: 5/═══════════════════════════════════════════╩══╩══╩══╩══╩═\n",
       "                                                3  1  4  0  2 </pre>"
      ],
      "text/plain": [
       "                 ┌───┐┌───────────────┐┌───┐ ░ ┌─┐            \n",
       "q_0: ────────────┤ X ├┤ U(2π/7,0,0,0) ├┤ X ├─░─┤M├────────────\n",
       "        ┌───┐    └─┬─┘└───────┬───────┘└─┬─┘ ░ └╥┘┌─┐         \n",
       "q_1: ───┤ H ├──────■──────────■──────────■───░──╫─┤M├─────────\n",
       "        ├───┤                            │   ░  ║ └╥┘┌─┐      \n",
       "q_2: ───┤ X ├────────────────────────────■───░──╫──╫─┤M├──────\n",
       "     ┌──┴───┴───┐                            ░  ║  ║ └╥┘┌─┐   \n",
       "q_3: ┤ Ry(2π/7) ├────────────────────────────░──╫──╫──╫─┤M├───\n",
       "     └──┬───┬───┘                            ░  ║  ║  ║ └╥┘┌─┐\n",
       "q_4: ───┤ Z ├────────────────────────────────░──╫──╫──╫──╫─┤M├\n",
       "        └───┘                                ░  ║  ║  ║  ║ └╥┘\n",
       "c: 5/═══════════════════════════════════════════╩══╩══╩══╩══╩═\n",
       "                                                3  1  4  0  2 "
      ]
     },
     "metadata": {},
     "output_type": "display_data"
    },
    {
     "data": {
      "image/png": "[encoded data removed]",
      "text/plain": [
       "<Figure size 1625.27x535.111 with 1 Axes>"
      ]
     },
     "metadata": {},
     "output_type": "display_data"
    },
    {
     "name": "stdout",
     "output_type": "stream",
     "text": [
      "measurement outcomes are: {'11010': 72, '10001': 93, '10000': 420, '11011': 13, '10010': 320, '10011': 82}\n",
      "\n",
      "unitary matrix is\n",
      "[[ 0.   +0.j  0.   +0.j  0.532+0.j  0.847-0.j]\n",
      " [ 0.847+0.j -0.532+0.j  0.   +0.j  0.   +0.j]\n",
      " [ 0.532+0.j  0.847-0.j  0.   +0.j  0.   +0.j]\n",
      " [ 0.   +0.j  0.   +0.j  0.847+0.j -0.532+0.j]]\n",
      "\n",
      "quantum state is\n",
      "0.0+0.0j\n",
      "0.847+0.0j\n",
      "0.532+0.0j\n",
      "0.0+0.0j\n",
      "\n",
      "All looks fine :-)\n"
     ]
    }
   ],
   "source": [
    "from qiskit import QuantumRegister, ClassicalRegister, QuantumCircuit, execute, Aer\n",
    "from math import pi\n",
    "\n",
    "# A quantum circuit is composed by a quantum and a classical register in Qiskit\n",
    "q = QuantumRegister(5,\"q\") # this quantum register has 5 qubits\n",
    "c = ClassicalRegister(5,\"c\") # this classical register has 5 classical bits\n",
    "\n",
    "qc = QuantumCircuit(q,c) # a quantum circuit with quantum and classical registers q and c\n",
    "\n",
    "qc.x(q[2]) # apply x-gate to the qubit \"q[2]\" of the quantum circuit \"qc\"\n",
    "qc.z(q[4]) # apply z-gate to the qubit \"q[4]\" of the quantum circuit \"qc\"\n",
    "qc.h(q[1]) # apply h-gate to the qubit \"q[1]\" of the quantum circuit \"qc\"\n",
    "\n",
    "a = pi/7\n",
    "qc.ry(2*a,q[3]) # apply ry-gate with the specified angle to the qubit \"q[3]\" of the quantum circuit \"qc\"\n",
    "\n",
    "qc.cx(q[1],q[0]) # apply cx-gate to the qubits \"q[1]\" and \"q[0]\" of the quantum circuit \"qc\"\n",
    "\n",
    "qc.cu(2*a,0,0,0,q[1],q[0]) # apply controlled rotation operator with the specified angle \n",
    "                          #  to the qubits \"q[1]\" and \"q[0]\" of the quantum circuit \"qc\"\n",
    "\n",
    "qc.ccx(q[2],q[1],q[0]) # apply ccx-gate to the qubits \"q[2]\", \"q[1]\", and \"q[0]\" of the quantum circuit \"qc\"\n",
    "\n",
    "qc.barrier()\n",
    "\n",
    "qc.measure(q[0],c[3]) # measure q[0] and write the output on c[3]\n",
    "qc.measure(q[1],c[1]) # measure q[1] and write the output on c[1]\n",
    "qc.measure(q[2],c[4]) # measure q[2] and write the output on c[4]\n",
    "qc.measure(q[3],c[0]) # measure q[3] and write the output on c[0]\n",
    "qc.measure(q[4],c[2]) # measure q[4] and write the output on c[2]\n",
    "\n",
    "display(qc.draw())\n",
    "\n",
    "qc.barrier()\n",
    "\n",
    "qc.h(q[0]).c_if(c,5)\n",
    "qc.x(q[0]).c_if(c,3)\n",
    "qc.z(q[0]).c_if(c,1)\n",
    "\n",
    "for i in range(5):\n",
    "    if i % 2 ==0: qc.h(q[i])\n",
    "    else: qc.x(q[i])\n",
    "        \n",
    "b = 3*pi/11\n",
    "qc.cu(2*b,0,0,0,q[1],q[0])\n",
    "\n",
    "display(qc.draw(output='mpl',reverse_bits=True))\n",
    "\n",
    "job = execute(qc,Aer.get_backend('qasm_simulator'),shots=1000)\n",
    "counts = job.result().get_counts(qc)   \n",
    "print(\"measurement outcomes are:\",counts)\n",
    "print()\n",
    "\n",
    "q = QuantumRegister(2,\"q\")\n",
    "c = ClassicalRegister(2,\"c\")\n",
    "\n",
    "qc = QuantumCircuit(q,c)\n",
    "\n",
    "qc.h(q[0])\n",
    "qc.ry(a,q[0])\n",
    "qc.x(q[1])\n",
    "qc.cx(q[0],q[1])\n",
    "\n",
    "job = execute(qc,Aer.get_backend('unitary_simulator'),shots=1,optimization_level=0)\n",
    "precision = 3\n",
    "current_unitary=job.result().get_unitary(qc,precision).data\n",
    "\n",
    "print(\"unitary matrix is\")\n",
    "print(current_unitary)\n",
    "print()\n",
    "\n",
    "job = execute(qc,Aer.get_backend('statevector_simulator'),optimization_level=0)\n",
    "precision = 3\n",
    "current_quantum_state=job.result().get_statevector(qc,precision).data\n",
    "print(\"quantum state is\")\n",
    "for val in current_quantum_state:\n",
    "    print(str(val.real)+\"+\"+str(val.imag)+\"j\")\n",
    "\n",
    "print()\n",
    "print(\"All looks fine :-)\")"
   ]
  }
 ],
 "metadata": {
  "kernelspec": {
   "display_name": "Python 3 (ipykernel)",
   "language": "python",
   "name": "python3"
  },
  "language_info": {
   "codemirror_mode": {
    "name": "ipython",
    "version": 3
   },
   "file_extension": ".py",
   "mimetype": "text/x-python",
   "name": "python",
   "nbconvert_exporter": "python",
   "pygments_lexer": "ipython3",
   "version": "3.11.4"
  }
 },
 "nbformat": 4,
 "nbformat_minor": 2
}
